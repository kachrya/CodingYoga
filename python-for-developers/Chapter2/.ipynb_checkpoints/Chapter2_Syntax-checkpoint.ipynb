{
 "cells": [
  {
   "cell_type": "markdown",
   "metadata": {},
   "source": [
    "[Python for Developers](http://ricardoduarte.github.io/python-for-developers/#content)\n",
    "=============================\n",
    "First edition\n",
    "-----------------------------------\n",
    "\n",
    "Chapter 2: Syntax\n",
    "===================\n",
    "___________________\n",
    "A program written in Python consists of lines, which may continue on the following lines, by using the backslash character (`\\`) at the end of the line or parentheses, brackets or braces in expressions that use such characters.\n",
    "\n",
    "The character `#` marks the beginning of a comment. Any text after the `#` will be ignored until the end of the line, with the exception of functional comments.\n",
    "\n",
    "Functional comments are used to:\n",
    "\n",
    "+ change the encoding of the source file of the program by adding a comment with the text `# - * - coding: <encoding> - # -` at the beginning of the file, in which `<encoding> ` is the file encoding (usually latin1 or utf-8). Changing encoding is required to support characters that are not part of the English language, in the source code of the program.\n",
    "+ define the interpreter that will be used to run the program on UNIX systems, through a comment starting with `#!` at the beginning of the file, which indicates the path to the interpreter (usually the comment line will be something like` #! / usr / bin / env python` ).\n",
    "\n",
    "Example of functional comments:"
   ]
  },
  {
   "cell_type": "code",
   "execution_count": 3,
   "metadata": {},
   "outputs": [
    {
     "name": "stdout",
     "output_type": "stream",
     "text": [
      "21\n"
     ]
    }
   ],
   "source": [
    "#!/usr/bin/env python\n",
    "\n",
    "# A code line that shows the result of 7 times 3\n",
    "print 7 * 3"
   ]
  },
  {
   "cell_type": "markdown",
   "metadata": {},
   "source": [
    "Examples of broken lines:"
   ]
  },
  {
   "cell_type": "code",
   "execution_count": 5,
   "metadata": {},
   "outputs": [
    {
     "name": "stdout",
     "output_type": "stream",
     "text": [
      "23 ['a', 'b', 'c', 'd', 'e'] [1, 2, 3, 4, 5, 6, 7, 8, 9, 10]\n"
     ]
    }
   ],
   "source": [
    "# A line broken by backslash\n",
    "a = 7 * 3 + \\\n",
    "5 / 2\n",
    "\n",
    "# A list (broken by comma)\n",
    "b = ['a', 'b', 'c', \n",
    "'d', 'e']\n",
    "\n",
    "# A function call (broken by comma)\n",
    "c = range(1,\n",
    "11)\n",
    "\n",
    "# Prints everything\n",
    "print a, b, c"
   ]
  },
  {
   "cell_type": "markdown",
   "metadata": {},
   "source": [
    "The command `print` inserts spaces between expressions that are received as a parameter, and a newline character at the end, unless it receives a comma at the end of the parameter list.\n",
    "\n",
    "Blocks\n",
    "------\n",
    "In Python, code blocks are defined by the use of indentation, which should be constant in the code block, but it is considered good practice to maintain consistency throughout the project and avoid mixing tabs and <span class = \"note\" title = \"The official recommendation coding style (http://www.python.org/dev/peps/pep-0008/) is to use four spaces for indentation and this convention is widely accepted by developers.\">spaces</span>.\n",
    "\n",
    "The line before the block always ends with a colon (:) and is a control structure of the language or a statement of a new structure (a function, for example).\n",
    "\n",
    "![Program structure](files/bpyfd_diags2.png)\n",
    "\n",
    "Example:"
   ]
  },
  {
   "cell_type": "code",
   "execution_count": 1,
   "metadata": {},
   "outputs": [
    {
     "name": "stdout",
     "output_type": "stream",
     "text": [
      "234 / 3 = 78\n",
      "654 / 3 = 218\n",
      "378 / 3 = 126\n",
      "798 / 3 = 266\n"
     ]
    }
   ],
   "source": [
    "# For i on the list 234, 654, 378, 798:\n",
    "for i in [234, 654, 378, 798]:\n",
    "    # If the remainder dividing by 3 is equal to zero:\n",
    "    if i % 3 == 0:\n",
    "        # Prints...\n",
    "        print i, '/ 3 =', i / 3"
   ]
  },
  {
   "cell_type": "markdown",
   "metadata": {},
   "source": [
    "The operator `%` computes the modulus (remainder of division)."
   ]
  },
  {
   "cell_type": "code",
   "execution_count": 6,
   "metadata": {},
   "outputs": [
    {
     "name": "stdout",
     "output_type": "stream",
     "text": [
      "768 / 3 = 256.0\n"
     ]
    }
   ],
   "source": [
    "for i in [256, 768, 32, 1894]:\n",
    "    if i % 3 == 0:\n",
    "        print(i, \"/ 3 =\", i/3)"
   ]
  },
  {
   "cell_type": "code",
   "execution_count": null,
   "metadata": {
    "collapsed": true
   },
   "outputs": [],
   "source": []
  }
 ],
 "metadata": {
  "kernelspec": {
   "display_name": "Python 3",
   "language": "python",
   "name": "python3"
  },
  "language_info": {
   "codemirror_mode": {
    "name": "ipython",
    "version": 3
   },
   "file_extension": ".py",
   "mimetype": "text/x-python",
   "name": "python",
   "nbconvert_exporter": "python",
   "pygments_lexer": "ipython3",
   "version": "3.5.2"
  }
 },
 "nbformat": 4,
 "nbformat_minor": 1
}
