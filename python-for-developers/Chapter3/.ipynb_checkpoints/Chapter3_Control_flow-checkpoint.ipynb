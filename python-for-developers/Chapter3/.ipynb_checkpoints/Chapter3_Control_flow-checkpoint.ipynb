{
 "cells": [
  {
   "cell_type": "markdown",
   "metadata": {},
   "source": [
    "[Python for Developers](http://ricardoduarte.github.io/python-for-developers/#content)\n",
    "===================================\n",
    "First edition\n",
    "-----------------------------------\n",
    "\n",
    "Chapter 3: Control Flow\n",
    "=============================\n",
    "_____________________________\n",
    "It is very common for a program that certain sets of instructions are executed conditionally, in cases such as validating data entries, for example.\n",
    "\n",
    "Syntax:\n",
    "\n",
    "    if <condition>:\n",
    "        <code block>\n",
    "    elif <condition>:\n",
    "        <code block>\n",
    "    elif <condition>:\n",
    "        <code block>\n",
    "    else:\n",
    "        <code block>\n",
    "\n",
    "Where:\n",
    "\n",
    "+ `<condition>`: sentence that can be evaluated as true or false.\n",
    "+ `<code block>`: sequence of command lines.\n",
    "+ The clauses `elif` and `else` are optional and  several `elifs` for the `if` may be used but only  one `else` at the end.\n",
    "+ Parentheses are only required to avoid ambiguity.\n",
    "Example:"
   ]
  },
  {
   "cell_type": "code",
   "execution_count": 3,
   "metadata": {},
   "outputs": [
    {
     "name": "stdout",
     "output_type": "stream",
     "text": [
      "Normal\n"
     ]
    }
   ],
   "source": [
    "temp = 23 # temperature value used to test\n",
    "\n",
    "if temp < 0:\n",
    "    print 'Freezing...'\n",
    "elif 0 <= temp <= 20:\n",
    "    print 'Cold'\n",
    "elif 21 <= temp <= 25:\n",
    "    print 'Normal'\n",
    "elif 26 <= temp <= 35:\n",
    "    print 'Hot'\n",
    "else:\n",
    "    print 'Very Hot!'"
   ]
  },
  {
   "cell_type": "markdown",
   "metadata": {},
   "source": [
    "Imagine that in the above program, `23` is the temperature which was read by  some sensor or manually entered by the user and `Normal` is the response of the program.\n",
    "\n",
    "If the code block is composed of only one line, it can be written after the colon:\n",
    "\n",
    "    if temp < 0: print 'Freezing...'\n",
    "\n",
    "Since version 2.5, Python supports the expression:\n",
    "\n",
    "    <variable> = <value 1> if <condition> else <value 2>\n",
    "\n",
    "Where `<variable>` receives `<value 1>` if `<condition>` is true and `<value 2>`  otherwise."
   ]
  },
  {
   "cell_type": "code",
   "execution_count": 6,
   "metadata": {},
   "outputs": [
    {
     "name": "stdout",
     "output_type": "stream",
     "text": [
      "Normal\n"
     ]
    }
   ],
   "source": [
    "temp = 27\n",
    "\n",
    "if temp < 0:\n",
    "    print(\"Freezing\")\n",
    "elif 0 <= temp < 13:\n",
    "    print(\"Cold\")\n",
    "elif 13 <= temp and temp < 29:\n",
    "    print(\"Normal\")\n",
    "else:\n",
    "    print(\"Hot\")\n",
    "\n",
    "    "
   ]
  },
  {
   "cell_type": "code",
   "execution_count": 8,
   "metadata": {},
   "outputs": [
    {
     "name": "stdout",
     "output_type": "stream",
     "text": [
      "Uncomfortable\n"
     ]
    }
   ],
   "source": [
    "temp = 27\n",
    "\n",
    "ans = \"Normal\" if 10<temp<27 else \"Uncomfortable\"\n",
    "print(ans)"
   ]
  },
  {
   "cell_type": "code",
   "execution_count": null,
   "metadata": {
    "collapsed": true
   },
   "outputs": [],
   "source": []
  },
  {
   "cell_type": "code",
   "execution_count": null,
   "metadata": {
    "collapsed": true
   },
   "outputs": [],
   "source": []
  }
 ],
 "metadata": {
  "kernelspec": {
   "display_name": "Python 3",
   "language": "python",
   "name": "python3"
  },
  "language_info": {
   "codemirror_mode": {
    "name": "ipython",
    "version": 3
   },
   "file_extension": ".py",
   "mimetype": "text/x-python",
   "name": "python",
   "nbconvert_exporter": "python",
   "pygments_lexer": "ipython3",
   "version": "3.5.2"
  }
 },
 "nbformat": 4,
 "nbformat_minor": 1
}
